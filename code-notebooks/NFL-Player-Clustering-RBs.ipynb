{
 "cells": [
  {
   "cell_type": "markdown",
   "id": "cb2741e4",
   "metadata": {},
   "source": [
    "# NFL Player Clustering By Position: RBs\n",
    "\n",
    "For the RBs, since we are only using my engineered features, we will not use PCA."
   ]
  },
  {
   "cell_type": "code",
   "execution_count": 110,
   "id": "fe2b773b",
   "metadata": {},
   "outputs": [],
   "source": [
    "import pandas as pd\n",
    "import numpy as np\n",
    "from sklearn.preprocessing import StandardScaler\n",
    "from sklearn.cluster import AgglomerativeClustering\n",
    "from scipy.cluster.hierarchy import dendrogram, linkage\n",
    "import matplotlib.pyplot as plt\n",
    "import seaborn as sns\n",
    "import plotly.express as px\n",
    "from sklearn.decomposition import PCA"
   ]
  },
  {
   "cell_type": "code",
   "execution_count": 111,
   "id": "785491c4",
   "metadata": {},
   "outputs": [
    {
     "data": {
      "text/html": [
       "<div>\n",
       "<style scoped>\n",
       "    .dataframe tbody tr th:only-of-type {\n",
       "        vertical-align: middle;\n",
       "    }\n",
       "\n",
       "    .dataframe tbody tr th {\n",
       "        vertical-align: top;\n",
       "    }\n",
       "\n",
       "    .dataframe thead th {\n",
       "        text-align: right;\n",
       "    }\n",
       "</style>\n",
       "<table border=\"1\" class=\"dataframe\">\n",
       "  <thead>\n",
       "    <tr style=\"text-align: right;\">\n",
       "      <th></th>\n",
       "      <th>TD_per_Att</th>\n",
       "      <th>Fmb_per_Att</th>\n",
       "      <th>1D_per_Att</th>\n",
       "      <th>TD_per_Game</th>\n",
       "      <th>Fmb_per_Game</th>\n",
       "      <th>TD_to_Fmb</th>\n",
       "      <th>Starter_Ratio</th>\n",
       "      <th>Lng_Yds_ratio</th>\n",
       "    </tr>\n",
       "  </thead>\n",
       "  <tbody>\n",
       "    <tr>\n",
       "      <th>0</th>\n",
       "      <td>0.037681</td>\n",
       "      <td>0.005797</td>\n",
       "      <td>0.237681</td>\n",
       "      <td>0.812500</td>\n",
       "      <td>0.125000</td>\n",
       "      <td>6.500000</td>\n",
       "      <td>1.000000</td>\n",
       "      <td>0.035910</td>\n",
       "    </tr>\n",
       "    <tr>\n",
       "      <th>1</th>\n",
       "      <td>0.049231</td>\n",
       "      <td>0.009231</td>\n",
       "      <td>0.289231</td>\n",
       "      <td>0.941176</td>\n",
       "      <td>0.176471</td>\n",
       "      <td>5.333333</td>\n",
       "      <td>1.000000</td>\n",
       "      <td>0.045289</td>\n",
       "    </tr>\n",
       "    <tr>\n",
       "      <th>2</th>\n",
       "      <td>0.044304</td>\n",
       "      <td>0.015823</td>\n",
       "      <td>0.268987</td>\n",
       "      <td>0.875000</td>\n",
       "      <td>0.312500</td>\n",
       "      <td>2.800000</td>\n",
       "      <td>1.000000</td>\n",
       "      <td>0.023095</td>\n",
       "    </tr>\n",
       "    <tr>\n",
       "      <th>3</th>\n",
       "      <td>0.046053</td>\n",
       "      <td>0.003289</td>\n",
       "      <td>0.269737</td>\n",
       "      <td>0.823529</td>\n",
       "      <td>0.058824</td>\n",
       "      <td>14.000000</td>\n",
       "      <td>1.000000</td>\n",
       "      <td>0.025412</td>\n",
       "    </tr>\n",
       "    <tr>\n",
       "      <th>4</th>\n",
       "      <td>0.036304</td>\n",
       "      <td>0.013201</td>\n",
       "      <td>0.234323</td>\n",
       "      <td>0.785714</td>\n",
       "      <td>0.285714</td>\n",
       "      <td>2.750000</td>\n",
       "      <td>0.928571</td>\n",
       "      <td>0.048917</td>\n",
       "    </tr>\n",
       "  </tbody>\n",
       "</table>\n",
       "</div>"
      ],
      "text/plain": [
       "   TD_per_Att  Fmb_per_Att  1D_per_Att  TD_per_Game  Fmb_per_Game  TD_to_Fmb  \\\n",
       "0    0.037681     0.005797    0.237681     0.812500      0.125000   6.500000   \n",
       "1    0.049231     0.009231    0.289231     0.941176      0.176471   5.333333   \n",
       "2    0.044304     0.015823    0.268987     0.875000      0.312500   2.800000   \n",
       "3    0.046053     0.003289    0.269737     0.823529      0.058824  14.000000   \n",
       "4    0.036304     0.013201    0.234323     0.785714      0.285714   2.750000   \n",
       "\n",
       "   Starter_Ratio  Lng_Yds_ratio  \n",
       "0       1.000000       0.035910  \n",
       "1       1.000000       0.045289  \n",
       "2       1.000000       0.023095  \n",
       "3       1.000000       0.025412  \n",
       "4       0.928571       0.048917  "
      ]
     },
     "execution_count": 111,
     "metadata": {},
     "output_type": "execute_result"
    }
   ],
   "source": [
    "rb_features = pd.read_csv(\"https://raw.githubusercontent.com/jake-lukasik/NFL-Player-Clustering/refs/heads/main/filtered-data/NFL-RB-Features.csv\")\n",
    "rb_features = rb_features.drop(columns=[\"Unnamed: 0\"])\n",
    "rb_features.head()"
   ]
  },
  {
   "cell_type": "code",
   "execution_count": 112,
   "id": "c50cda96",
   "metadata": {},
   "outputs": [
    {
     "data": {
      "text/html": [
       "<div>\n",
       "<style scoped>\n",
       "    .dataframe tbody tr th:only-of-type {\n",
       "        vertical-align: middle;\n",
       "    }\n",
       "\n",
       "    .dataframe tbody tr th {\n",
       "        vertical-align: top;\n",
       "    }\n",
       "\n",
       "    .dataframe thead th {\n",
       "        text-align: right;\n",
       "    }\n",
       "</style>\n",
       "<table border=\"1\" class=\"dataframe\">\n",
       "  <thead>\n",
       "    <tr style=\"text-align: right;\">\n",
       "      <th></th>\n",
       "      <th>Player</th>\n",
       "      <th>Team</th>\n",
       "    </tr>\n",
       "  </thead>\n",
       "  <tbody>\n",
       "    <tr>\n",
       "      <th>0</th>\n",
       "      <td>Saquon Barkley</td>\n",
       "      <td>PHI</td>\n",
       "    </tr>\n",
       "    <tr>\n",
       "      <th>1</th>\n",
       "      <td>Derrick Henry</td>\n",
       "      <td>BAL</td>\n",
       "    </tr>\n",
       "    <tr>\n",
       "      <th>2</th>\n",
       "      <td>Kyren Williams</td>\n",
       "      <td>LAR</td>\n",
       "    </tr>\n",
       "    <tr>\n",
       "      <th>3</th>\n",
       "      <td>Bijan Robinson</td>\n",
       "      <td>ATL</td>\n",
       "    </tr>\n",
       "    <tr>\n",
       "      <th>4</th>\n",
       "      <td>Jonathan Taylor</td>\n",
       "      <td>IND</td>\n",
       "    </tr>\n",
       "  </tbody>\n",
       "</table>\n",
       "</div>"
      ],
      "text/plain": [
       "            Player Team\n",
       "0   Saquon Barkley  PHI\n",
       "1    Derrick Henry  BAL\n",
       "2   Kyren Williams  LAR\n",
       "3   Bijan Robinson  ATL\n",
       "4  Jonathan Taylor  IND"
      ]
     },
     "execution_count": 112,
     "metadata": {},
     "output_type": "execute_result"
    }
   ],
   "source": [
    "rb_IDs = pd.read_csv(\"https://raw.githubusercontent.com/jake-lukasik/NFL-Player-Clustering/refs/heads/main/filtered-data/NFL-RB-Identifiers.csv\")\n",
    "rb_IDs = rb_IDs.drop(columns=[\"Unnamed: 0\"])\n",
    "rb_IDs.head()"
   ]
  },
  {
   "cell_type": "code",
   "execution_count": 113,
   "id": "9912b5d1",
   "metadata": {},
   "outputs": [],
   "source": [
    "# deal w/ zeroes and infs\n",
    "rb_features = rb_features.replace([np.inf, -np.inf], np.nan)\n",
    "rb_features = rb_features.fillna(0)"
   ]
  },
  {
   "cell_type": "code",
   "execution_count": 114,
   "id": "1dfe1348",
   "metadata": {},
   "outputs": [],
   "source": [
    "# scale just features\n",
    "scaler = StandardScaler()\n",
    "features_scaled = scaler.fit_transform(rb_features)"
   ]
  },
  {
   "cell_type": "code",
   "execution_count": 115,
   "id": "ec6c5657",
   "metadata": {},
   "outputs": [
    {
     "data": {
      "image/png": "[encoded data removed]",
      "text/plain": [
       "<Figure size 1600x800 with 1 Axes>"
      ]
     },
     "metadata": {},
     "output_type": "display_data"
    }
   ],
   "source": [
    "dend_links = linkage(features_scaled, method='ward')\n",
    "\n",
    "# plot dendogram of NFL RB stats using hierarchical clustering\n",
    "plt.figure(figsize=(16, 8))\n",
    "dendrogram(dend_links, labels=rb_IDs[\"Player\"].values, leaf_rotation=90, leaf_font_size=10)\n",
    "plt.title(\"Hierarchical Clustering Dendrogram of NFL RBs Based on 2024-25 Season Stats\")\n",
    "plt.xlabel(\"RB\")\n",
    "plt.ylabel(\"Distance\")\n",
    "plt.tight_layout()\n",
    "plt.show()"
   ]
  },
  {
   "cell_type": "code",
   "execution_count": 116,
   "id": "9141784a",
   "metadata": {},
   "outputs": [],
   "source": [
    "# perform agglomerative hierarchical clustering on the scaled features and record what cluster they're in\n",
    "agg = AgglomerativeClustering(n_clusters=4, linkage='ward')\n",
    "rb_features['Cluster'] = agg.fit_predict(features_scaled)"
   ]
  },
  {
   "cell_type": "code",
   "execution_count": 117,
   "id": "895ab0dc",
   "metadata": {},
   "outputs": [
    {
     "data": {
      "application/vnd.plotly.v1+json": {
       "config": {
        "plotlyServerURL": "https://plot.ly"
       },
       "data": [
        {
         "customdata": [
          [
           "Saquon Barkley",
           "PHI",
           0
          ],
          [
           "Derrick Henry",
           "BAL",
           0
          ],
          [
           "Kyren Williams",
           "LAR",
           0
          ],
          [
           "Bijan Robinson",
           "ATL",
           0
          ],
          [
           "Jonathan Taylor",
           "IND",
           0
          ],
          [
           "Josh Jacobs",
           "GNB",
           0
          ],
          [
           "Najee Harris",
           "PIT",
           2
          ],
          [
           "Tony Pollard",
           "TEN",
           2
          ],
          [
           "Aaron Jones",
           "MIN",
           1
          ],
          [
           "D'Andre Swift",
           "CHI",
           2
          ],
          [
           "Chuba Hubbard",
           "CAR",
           0
          ],
          [
           "Joe Mixon",
           "HOU",
           2
          ],
          [
           "James Conner",
           "ARI",
           0
          ],
          [
           "Rico Dowdle",
           "DAL",
           2
          ],
          [
           "Chase Brown",
           "CIN",
           3
          ],
          [
           "Alvin Kamara",
           "NOR",
           0
          ],
          [
           "Breece Hall",
           "NYJ",
           1
          ],
          [
           "James Cook",
           "BUF",
           0
          ],
          [
           "Rhamondre Stevenson",
           "NWE",
           1
          ],
          [
           "De'Von Achane",
           "MIA",
           2
          ],
          [
           "J.K. Dobbins",
           "LAC",
           2
          ],
          [
           "Tyrone Tracy Jr.",
           "NYG",
           3
          ],
          [
           "Brian Robinson Jr.",
           "WAS",
           0
          ],
          [
           "David Montgomery",
           "DET",
           0
          ],
          [
           "Kenneth Walker III",
           "SEA",
           2
          ],
          [
           "Travis Etienne",
           "JAX",
           2
          ],
          [
           "Rachaad White",
           "TAM",
           1
          ],
          [
           "Javonte Williams",
           "DEN",
           3
          ]
         ],
         "hovertemplate": "PC1=%{x}<br>PC2=%{y}<br>Player=%{customdata[0]}<br>Team=%{customdata[1]}<br>Cluster=%{marker.color}<extra></extra>",
         "legendgroup": "",
         "marker": {
          "color": {
           "bdata": "AAAAAAAAAgIBAgACAAIDAAEAAQICAwAAAgIBAw==",
           "dtype": "i1"
          },
          "coloraxis": "coloraxis",
          "size": 10,
          "symbol": "circle"
         },
         "mode": "markers",
         "name": "",
         "orientation": "v",
         "showlegend": false,
         "type": "scatter",
         "x": {
          "bdata": "AgNVY5gN+D8xWW68g9EBQPGZGXClZu8/ELpLZRUuCkCHpw9+ZPm5P0JHM2uuHPQ/baph4cku4r8OFy5V+LTtv1393x6loADAOH3Co/898b/Fj6s52zzQPwtvXAoec/E/RHLT1spmlb909h3K+DEAwGvCNqAH6ey/gV/eScNK3j/14fqD5C0EwEOpu4kI5BBAhwmajvMIA8AAICMQhuLUv3u/L1d09uw/gh/FMGlnBcD9Gn4C0zDkPz+GH5geXwRA6/Wiaw9g7T/3OrpQDzH1v/gawH59Xf6/XhRLEIaA+r8=",
          "dtype": "f8"
         },
         "xaxis": "x",
         "y": {
          "bdata": "vG1aZvAfl78ms+ztC2PyP++CAaE+CgNAYPGg9bTakD9KOTdwJGTwPyGMQrJ6sfc/VQnYNrobAcBHOdR75lvuv1k5oqvOpuU/sLYh9sxI+b8YHKfUWXn4P7YcnhTG8fm/5JPF8Ggr9j/PsZWio5LGv9zFEUqIiu2/63kTCoqL6r8NjCnZim35PwR1VqokBNi/7rPAzYcTBkDyJ4Mou/kAwBUNvy4H9fq/6UXJ7kM25z9wz+ddiXu5PznIUFYrQfQ/EEJTwtRn8L9wO3YETRD5v/UWpUDVtdW/2FUshM9Q578=",
          "dtype": "f8"
         },
         "yaxis": "y"
        }
       ],
       "layout": {
        "coloraxis": {
         "colorbar": {
          "title": {
           "text": "Cluster"
          }
         },
         "colorscale": [
          [
           0,
           "#0d0887"
          ],
          [
           0.1111111111111111,
           "#46039f"
          ],
          [
           0.2222222222222222,
           "#7201a8"
          ],
          [
           0.3333333333333333,
           "#9c179e"
          ],
          [
           0.4444444444444444,
           "#bd3786"
          ],
          [
           0.5555555555555556,
           "#d8576b"
          ],
          [
           0.6666666666666666,
           "#ed7953"
          ],
          [
           0.7777777777777778,
           "#fb9f3a"
          ],
          [
           0.8888888888888888,
           "#fdca26"
          ],
          [
           1,
           "#f0f921"
          ]
         ]
        },
        "legend": {
         "title": {
          "text": "Cluster"
         },
         "tracegroupgap": 0
        },
        "template": {
         "data": {
          "bar": [
           {
            "error_x": {
             "color": "#2a3f5f"
            },
            "error_y": {
             "color": "#2a3f5f"
            },
            "marker": {
             "line": {
              "color": "#E5ECF6",
              "width": 0.5
             },
             "pattern": {
              "fillmode": "overlay",
              "size": 10,
              "solidity": 0.2
             }
            },
            "type": "bar"
           }
          ],
          "barpolar": [
           {
            "marker": {
             "line": {
              "color": "#E5ECF6",
              "width": 0.5
             },
             "pattern": {
              "fillmode": "overlay",
              "size": 10,
              "solidity": 0.2
             }
            },
            "type": "barpolar"
           }
          ],
          "carpet": [
           {
            "aaxis": {
             "endlinecolor": "#2a3f5f",
             "gridcolor": "white",
             "linecolor": "white",
             "minorgridcolor": "white",
             "startlinecolor": "#2a3f5f"
            },
            "baxis": {
             "endlinecolor": "#2a3f5f",
             "gridcolor": "white",
             "linecolor": "white",
             "minorgridcolor": "white",
             "startlinecolor": "#2a3f5f"
            },
            "type": "carpet"
           }
          ],
          "choropleth": [
           {
            "colorbar": {
             "outlinewidth": 0,
             "ticks": ""
            },
            "type": "choropleth"
           }
          ],
          "contour": [
           {
            "colorbar": {
             "outlinewidth": 0,
             "ticks": ""
            },
            "colorscale": [
             [
              0,
              "#0d0887"
             ],
             [
              0.1111111111111111,
              "#46039f"
             ],
             [
              0.2222222222222222,
              "#7201a8"
             ],
             [
              0.3333333333333333,
              "#9c179e"
             ],
             [
              0.4444444444444444,
              "#bd3786"
             ],
             [
              0.5555555555555556,
              "#d8576b"
             ],
             [
              0.6666666666666666,
              "#ed7953"
             ],
             [
              0.7777777777777778,
              "#fb9f3a"
             ],
             [
              0.8888888888888888,
              "#fdca26"
             ],
             [
              1,
              "#f0f921"
             ]
            ],
            "type": "contour"
           }
          ],
          "contourcarpet": [
           {
            "colorbar": {
             "outlinewidth": 0,
             "ticks": ""
            },
            "type": "contourcarpet"
           }
          ],
          "heatmap": [
           {
            "colorbar": {
             "outlinewidth": 0,
             "ticks": ""
            },
            "colorscale": [
             [
              0,
              "#0d0887"
             ],
             [
              0.1111111111111111,
              "#46039f"
             ],
             [
              0.2222222222222222,
              "#7201a8"
             ],
             [
              0.3333333333333333,
              "#9c179e"
             ],
             [
              0.4444444444444444,
              "#bd3786"
             ],
             [
              0.5555555555555556,
              "#d8576b"
             ],
             [
              0.6666666666666666,
              "#ed7953"
             ],
             [
              0.7777777777777778,
              "#fb9f3a"
             ],
             [
              0.8888888888888888,
              "#fdca26"
             ],
             [
              1,
              "#f0f921"
             ]
            ],
            "type": "heatmap"
           }
          ],
          "histogram": [
           {
            "marker": {
             "pattern": {
              "fillmode": "overlay",
              "size": 10,
              "solidity": 0.2
             }
            },
            "type": "histogram"
           }
          ],
          "histogram2d": [
           {
            "colorbar": {
             "outlinewidth": 0,
             "ticks": ""
            },
            "colorscale": [
             [
              0,
              "#0d0887"
             ],
             [
              0.1111111111111111,
              "#46039f"
             ],
             [
              0.2222222222222222,
              "#7201a8"
             ],
             [
              0.3333333333333333,
              "#9c179e"
             ],
             [
              0.4444444444444444,
              "#bd3786"
             ],
             [
              0.5555555555555556,
              "#d8576b"
             ],
             [
              0.6666666666666666,
              "#ed7953"
             ],
             [
              0.7777777777777778,
              "#fb9f3a"
             ],
             [
              0.8888888888888888,
              "#fdca26"
             ],
             [
              1,
              "#f0f921"
             ]
            ],
            "type": "histogram2d"
           }
          ],
          "histogram2dcontour": [
           {
            "colorbar": {
             "outlinewidth": 0,
             "ticks": ""
            },
            "colorscale": [
             [
              0,
              "#0d0887"
             ],
             [
              0.1111111111111111,
              "#46039f"
             ],
             [
              0.2222222222222222,
              "#7201a8"
             ],
             [
              0.3333333333333333,
              "#9c179e"
             ],
             [
              0.4444444444444444,
              "#bd3786"
             ],
             [
              0.5555555555555556,
              "#d8576b"
             ],
             [
              0.6666666666666666,
              "#ed7953"
             ],
             [
              0.7777777777777778,
              "#fb9f3a"
             ],
             [
              0.8888888888888888,
              "#fdca26"
             ],
             [
              1,
              "#f0f921"
             ]
            ],
            "type": "histogram2dcontour"
           }
          ],
          "mesh3d": [
           {
            "colorbar": {
             "outlinewidth": 0,
             "ticks": ""
            },
            "type": "mesh3d"
           }
          ],
          "parcoords": [
           {
            "line": {
             "colorbar": {
              "outlinewidth": 0,
              "ticks": ""
             }
            },
            "type": "parcoords"
           }
          ],
          "pie": [
           {
            "automargin": true,
            "type": "pie"
           }
          ],
          "scatter": [
           {
            "fillpattern": {
             "fillmode": "overlay",
             "size": 10,
             "solidity": 0.2
            },
            "type": "scatter"
           }
          ],
          "scatter3d": [
           {
            "line": {
             "colorbar": {
              "outlinewidth": 0,
              "ticks": ""
             }
            },
            "marker": {
             "colorbar": {
              "outlinewidth": 0,
              "ticks": ""
             }
            },
            "type": "scatter3d"
           }
          ],
          "scattercarpet": [
           {
            "marker": {
             "colorbar": {
              "outlinewidth": 0,
              "ticks": ""
             }
            },
            "type": "scattercarpet"
           }
          ],
          "scattergeo": [
           {
            "marker": {
             "colorbar": {
              "outlinewidth": 0,
              "ticks": ""
             }
            },
            "type": "scattergeo"
           }
          ],
          "scattergl": [
           {
            "marker": {
             "colorbar": {
              "outlinewidth": 0,
              "ticks": ""
             }
            },
            "type": "scattergl"
           }
          ],
          "scattermap": [
           {
            "marker": {
             "colorbar": {
              "outlinewidth": 0,
              "ticks": ""
             }
            },
            "type": "scattermap"
           }
          ],
          "scattermapbox": [
           {
            "marker": {
             "colorbar": {
              "outlinewidth": 0,
              "ticks": ""
             }
            },
            "type": "scattermapbox"
           }
          ],
          "scatterpolar": [
           {
            "marker": {
             "colorbar": {
              "outlinewidth": 0,
              "ticks": ""
             }
            },
            "type": "scatterpolar"
           }
          ],
          "scatterpolargl": [
           {
            "marker": {
             "colorbar": {
              "outlinewidth": 0,
              "ticks": ""
             }
            },
            "type": "scatterpolargl"
           }
          ],
          "scatterternary": [
           {
            "marker": {
             "colorbar": {
              "outlinewidth": 0,
              "ticks": ""
             }
            },
            "type": "scatterternary"
           }
          ],
          "surface": [
           {
            "colorbar": {
             "outlinewidth": 0,
             "ticks": ""
            },
            "colorscale": [
             [
              0,
              "#0d0887"
             ],
             [
              0.1111111111111111,
              "#46039f"
             ],
             [
              0.2222222222222222,
              "#7201a8"
             ],
             [
              0.3333333333333333,
              "#9c179e"
             ],
             [
              0.4444444444444444,
              "#bd3786"
             ],
             [
              0.5555555555555556,
              "#d8576b"
             ],
             [
              0.6666666666666666,
              "#ed7953"
             ],
             [
              0.7777777777777778,
              "#fb9f3a"
             ],
             [
              0.8888888888888888,
              "#fdca26"
             ],
             [
              1,
              "#f0f921"
             ]
            ],
            "type": "surface"
           }
          ],
          "table": [
           {
            "cells": {
             "fill": {
              "color": "#EBF0F8"
             },
             "line": {
              "color": "white"
             }
            },
            "header": {
             "fill": {
              "color": "#C8D4E3"
             },
             "line": {
              "color": "white"
             }
            },
            "type": "table"
           }
          ]
         },
         "layout": {
          "annotationdefaults": {
           "arrowcolor": "#2a3f5f",
           "arrowhead": 0,
           "arrowwidth": 1
          },
          "autotypenumbers": "strict",
          "coloraxis": {
           "colorbar": {
            "outlinewidth": 0,
            "ticks": ""
           }
          },
          "colorscale": {
           "diverging": [
            [
             0,
             "#8e0152"
            ],
            [
             0.1,
             "#c51b7d"
            ],
            [
             0.2,
             "#de77ae"
            ],
            [
             0.3,
             "#f1b6da"
            ],
            [
             0.4,
             "#fde0ef"
            ],
            [
             0.5,
             "#f7f7f7"
            ],
            [
             0.6,
             "#e6f5d0"
            ],
            [
             0.7,
             "#b8e186"
            ],
            [
             0.8,
             "#7fbc41"
            ],
            [
             0.9,
             "#4d9221"
            ],
            [
             1,
             "#276419"
            ]
           ],
           "sequential": [
            [
             0,
             "#0d0887"
            ],
            [
             0.1111111111111111,
             "#46039f"
            ],
            [
             0.2222222222222222,
             "#7201a8"
            ],
            [
             0.3333333333333333,
             "#9c179e"
            ],
            [
             0.4444444444444444,
             "#bd3786"
            ],
            [
             0.5555555555555556,
             "#d8576b"
            ],
            [
             0.6666666666666666,
             "#ed7953"
            ],
            [
             0.7777777777777778,
             "#fb9f3a"
            ],
            [
             0.8888888888888888,
             "#fdca26"
            ],
            [
             1,
             "#f0f921"
            ]
           ],
           "sequentialminus": [
            [
             0,
             "#0d0887"
            ],
            [
             0.1111111111111111,
             "#46039f"
            ],
            [
             0.2222222222222222,
             "#7201a8"
            ],
            [
             0.3333333333333333,
             "#9c179e"
            ],
            [
             0.4444444444444444,
             "#bd3786"
            ],
            [
             0.5555555555555556,
             "#d8576b"
            ],
            [
             0.6666666666666666,
             "#ed7953"
            ],
            [
             0.7777777777777778,
             "#fb9f3a"
            ],
            [
             0.8888888888888888,
             "#fdca26"
            ],
            [
             1,
             "#f0f921"
            ]
           ]
          },
          "colorway": [
           "#636efa",
           "#EF553B",
           "#00cc96",
           "#ab63fa",
           "#FFA15A",
           "#19d3f3",
           "#FF6692",
           "#B6E880",
           "#FF97FF",
           "#FECB52"
          ],
          "font": {
           "color": "#2a3f5f"
          },
          "geo": {
           "bgcolor": "white",
           "lakecolor": "white",
           "landcolor": "#E5ECF6",
           "showlakes": true,
           "showland": true,
           "subunitcolor": "white"
          },
          "hoverlabel": {
           "align": "left"
          },
          "hovermode": "closest",
          "mapbox": {
           "style": "light"
          },
          "paper_bgcolor": "white",
          "plot_bgcolor": "#E5ECF6",
          "polar": {
           "angularaxis": {
            "gridcolor": "white",
            "linecolor": "white",
            "ticks": ""
           },
           "bgcolor": "#E5ECF6",
           "radialaxis": {
            "gridcolor": "white",
            "linecolor": "white",
            "ticks": ""
           }
          },
          "scene": {
           "xaxis": {
            "backgroundcolor": "#E5ECF6",
            "gridcolor": "white",
            "gridwidth": 2,
            "linecolor": "white",
            "showbackground": true,
            "ticks": "",
            "zerolinecolor": "white"
           },
           "yaxis": {
            "backgroundcolor": "#E5ECF6",
            "gridcolor": "white",
            "gridwidth": 2,
            "linecolor": "white",
            "showbackground": true,
            "ticks": "",
            "zerolinecolor": "white"
           },
           "zaxis": {
            "backgroundcolor": "#E5ECF6",
            "gridcolor": "white",
            "gridwidth": 2,
            "linecolor": "white",
            "showbackground": true,
            "ticks": "",
            "zerolinecolor": "white"
           }
          },
          "shapedefaults": {
           "line": {
            "color": "#2a3f5f"
           }
          },
          "ternary": {
           "aaxis": {
            "gridcolor": "white",
            "linecolor": "white",
            "ticks": ""
           },
           "baxis": {
            "gridcolor": "white",
            "linecolor": "white",
            "ticks": ""
           },
           "bgcolor": "#E5ECF6",
           "caxis": {
            "gridcolor": "white",
            "linecolor": "white",
            "ticks": ""
           }
          },
          "title": {
           "x": 0.05
          },
          "xaxis": {
           "automargin": true,
           "gridcolor": "white",
           "linecolor": "white",
           "ticks": "",
           "title": {
            "standoff": 15
           },
           "zerolinecolor": "white",
           "zerolinewidth": 2
          },
          "yaxis": {
           "automargin": true,
           "gridcolor": "white",
           "linecolor": "white",
           "ticks": "",
           "title": {
            "standoff": 15
           },
           "zerolinecolor": "white",
           "zerolinewidth": 2
          }
         }
        },
        "title": {
         "text": "NFL RB Clusters (Agglomerative Clustering + PCA)"
        },
        "xaxis": {
         "anchor": "y",
         "domain": [
          0,
          1
         ],
         "title": {
          "text": "PC1"
         }
        },
        "yaxis": {
         "anchor": "x",
         "domain": [
          0,
          1
         ],
         "title": {
          "text": "PC2"
         }
        }
       }
      }
     },
     "metadata": {},
     "output_type": "display_data"
    }
   ],
   "source": [
    "# perform PCA and keep two highest components (just for the sake of plotting)\n",
    "pca = PCA(n_components=2)\n",
    "X_pca = pca.fit_transform(features_scaled)\n",
    "\n",
    "# initialize DataFrame with PCA results and cluster info\n",
    "rb_pca = pd.DataFrame({\n",
    "    'Player': rb_IDs['Player'],\n",
    "    'Team': rb_IDs['Team'],\n",
    "    'Cluster': rb_features['Cluster'],\n",
    "    'PC1': X_pca[:, 0],\n",
    "    'PC2': X_pca[:, 1]\n",
    "})\n",
    "\n",
    "# plot with hovertext to view rb info\n",
    "fig = px.scatter(\n",
    "    rb_pca,\n",
    "    x='PC1',\n",
    "    y='PC2',\n",
    "    color='Cluster',\n",
    "    hover_data=['Player', 'Team', 'Cluster'],\n",
    "    title='NFL RB Clusters (Agglomerative Clustering + PCA)'\n",
    ")\n",
    "\n",
    "fig.update_traces(marker=dict(size=10))\n",
    "fig.update_layout(legend_title_text='Cluster')\n",
    "fig.show()"
   ]
  },
  {
   "cell_type": "code",
   "execution_count": 120,
   "id": "9d437c4e",
   "metadata": {},
   "outputs": [
    {
     "data": {
      "image/png": "[encoded data removed]",
      "text/plain": [
       "<Figure size 1600x1000 with 8 Axes>"
      ]
     },
     "metadata": {},
     "output_type": "display_data"
    }
   ],
   "source": [
    "# stole this barplot idea right from the QB one\n",
    "# plot barplot for each cluster in each statistic\n",
    "features_for_plotting = ['TD_per_Att', 'Fmb_per_Att', '1D_per_Att', 'TD_per_Game', 'Fmb_per_Game', 'TD_to_Fmb', 'Starter_Ratio', 'Lng_Yds_ratio']\n",
    "custom_colors = ['blue', 'purple', 'orange', 'yellow']\n",
    "\n",
    "plt.figure(figsize=(16, 10))\n",
    "\n",
    "for i, stat in enumerate(features_for_plotting, 1):\n",
    "    plt.subplot(2, 4, i)\n",
    "    sns.boxplot(x='Cluster', \n",
    "                y=stat, \n",
    "                data=rb_features, \n",
    "                hue='Cluster', \n",
    "                palette=custom_colors, \n",
    "                legend=False)\n",
    "    plt.title(f'{stat} by Cluster')\n",
    "    plt.xlabel('Cluster')\n",
    "    plt.ylabel(stat)\n",
    "\n",
    "plt.tight_layout()\n",
    "plt.show()"
   ]
  }
 ],
 "metadata": {
  "kernelspec": {
   "display_name": "Python 3",
   "language": "python",
   "name": "python3"
  },
  "language_info": {
   "codemirror_mode": {
    "name": "ipython",
    "version": 3
   },
   "file_extension": ".py",
   "mimetype": "text/x-python",
   "name": "python",
   "nbconvert_exporter": "python",
   "pygments_lexer": "ipython3",
   "version": "3.11.9"
  }
 },
 "nbformat": 4,
 "nbformat_minor": 5
}
