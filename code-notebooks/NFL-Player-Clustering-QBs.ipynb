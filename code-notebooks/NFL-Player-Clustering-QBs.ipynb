{
 "cells": [
  {
   "cell_type": "markdown",
   "id": "8739e187",
   "metadata": {},
   "source": [
    "# NFL Player Clustering By Position: QBs"
   ]
  },
  {
   "cell_type": "code",
   "execution_count": 15,
   "id": "82bb6b39",
   "metadata": {},
   "outputs": [],
   "source": [
    "import pandas as pd\n",
    "from sklearn.preprocessing import StandardScaler\n",
    "from sklearn.decomposition import PCA\n",
    "from sklearn.cluster import KMeans\n",
    "import matplotlib.pyplot as plt\n",
    "import seaborn as sns\n",
    "import plotly.graph_objects as go"
   ]
  },
  {
   "cell_type": "markdown",
   "id": "a7186b10",
   "metadata": {},
   "source": [
    "## Load in data"
   ]
  },
  {
   "cell_type": "code",
   "execution_count": 16,
   "id": "4b7325ff",
   "metadata": {},
   "outputs": [
    {
     "data": {
      "text/html": [
       "<div>\n",
       "<style scoped>\n",
       "    .dataframe tbody tr th:only-of-type {\n",
       "        vertical-align: middle;\n",
       "    }\n",
       "\n",
       "    .dataframe tbody tr th {\n",
       "        vertical-align: top;\n",
       "    }\n",
       "\n",
       "    .dataframe thead th {\n",
       "        text-align: right;\n",
       "    }\n",
       "</style>\n",
       "<table border=\"1\" class=\"dataframe\">\n",
       "  <thead>\n",
       "    <tr style=\"text-align: right;\">\n",
       "      <th></th>\n",
       "      <th>Player</th>\n",
       "      <th>Team</th>\n",
       "    </tr>\n",
       "  </thead>\n",
       "  <tbody>\n",
       "    <tr>\n",
       "      <th>0</th>\n",
       "      <td>Joe Burrow</td>\n",
       "      <td>CIN</td>\n",
       "    </tr>\n",
       "    <tr>\n",
       "      <th>1</th>\n",
       "      <td>Jared Goff</td>\n",
       "      <td>DET</td>\n",
       "    </tr>\n",
       "    <tr>\n",
       "      <th>2</th>\n",
       "      <td>Baker Mayfield</td>\n",
       "      <td>TAM</td>\n",
       "    </tr>\n",
       "    <tr>\n",
       "      <th>3</th>\n",
       "      <td>Geno Smith</td>\n",
       "      <td>SEA</td>\n",
       "    </tr>\n",
       "    <tr>\n",
       "      <th>4</th>\n",
       "      <td>Sam Darnold</td>\n",
       "      <td>MIN</td>\n",
       "    </tr>\n",
       "  </tbody>\n",
       "</table>\n",
       "</div>"
      ],
      "text/plain": [
       "           Player Team\n",
       "0      Joe Burrow  CIN\n",
       "1      Jared Goff  DET\n",
       "2  Baker Mayfield  TAM\n",
       "3      Geno Smith  SEA\n",
       "4     Sam Darnold  MIN"
      ]
     },
     "execution_count": 16,
     "metadata": {},
     "output_type": "execute_result"
    }
   ],
   "source": [
    "NFL_QB_Identifiers = pd.read_csv(\"https://raw.githubusercontent.com/jake-lukasik/NFL-Player-Clustering/refs/heads/main/filtered-data/NFL-QB-Identifiers.csv\")\n",
    "NFL_QB_Identifiers = NFL_QB_Identifiers.drop(columns=['Unnamed: 0'])\n",
    "NFL_QB_Identifiers.head()"
   ]
  },
  {
   "cell_type": "code",
   "execution_count": 17,
   "id": "00e6458a",
   "metadata": {},
   "outputs": [
    {
     "data": {
      "text/html": [
       "<div>\n",
       "<style scoped>\n",
       "    .dataframe tbody tr th:only-of-type {\n",
       "        vertical-align: middle;\n",
       "    }\n",
       "\n",
       "    .dataframe tbody tr th {\n",
       "        vertical-align: top;\n",
       "    }\n",
       "\n",
       "    .dataframe thead th {\n",
       "        text-align: right;\n",
       "    }\n",
       "</style>\n",
       "<table border=\"1\" class=\"dataframe\">\n",
       "  <thead>\n",
       "    <tr style=\"text-align: right;\">\n",
       "      <th></th>\n",
       "      <th>Age</th>\n",
       "      <th>G</th>\n",
       "      <th>GS</th>\n",
       "      <th>Cmp%</th>\n",
       "      <th>Yds</th>\n",
       "      <th>TD</th>\n",
       "      <th>TD%</th>\n",
       "      <th>Int</th>\n",
       "      <th>Int%</th>\n",
       "      <th>1D</th>\n",
       "      <th>...</th>\n",
       "      <th>AY/A</th>\n",
       "      <th>Y/C</th>\n",
       "      <th>Y/G</th>\n",
       "      <th>Rate</th>\n",
       "      <th>QBR</th>\n",
       "      <th>NY/A</th>\n",
       "      <th>ANY/A</th>\n",
       "      <th>4QC</th>\n",
       "      <th>GWD</th>\n",
       "      <th>QB-Wins</th>\n",
       "    </tr>\n",
       "  </thead>\n",
       "  <tbody>\n",
       "    <tr>\n",
       "      <th>0</th>\n",
       "      <td>28.0</td>\n",
       "      <td>17.0</td>\n",
       "      <td>17.0</td>\n",
       "      <td>70.6</td>\n",
       "      <td>4918.0</td>\n",
       "      <td>43.0</td>\n",
       "      <td>6.6</td>\n",
       "      <td>9.0</td>\n",
       "      <td>1.4</td>\n",
       "      <td>253.0</td>\n",
       "      <td>...</td>\n",
       "      <td>8.24</td>\n",
       "      <td>10.7</td>\n",
       "      <td>289.3</td>\n",
       "      <td>108.5</td>\n",
       "      <td>74.7</td>\n",
       "      <td>6.63</td>\n",
       "      <td>7.28</td>\n",
       "      <td>1.0</td>\n",
       "      <td>2.0</td>\n",
       "      <td>9</td>\n",
       "    </tr>\n",
       "    <tr>\n",
       "      <th>1</th>\n",
       "      <td>30.0</td>\n",
       "      <td>17.0</td>\n",
       "      <td>17.0</td>\n",
       "      <td>72.4</td>\n",
       "      <td>4629.0</td>\n",
       "      <td>37.0</td>\n",
       "      <td>6.9</td>\n",
       "      <td>12.0</td>\n",
       "      <td>2.2</td>\n",
       "      <td>236.0</td>\n",
       "      <td>...</td>\n",
       "      <td>8.96</td>\n",
       "      <td>11.9</td>\n",
       "      <td>272.3</td>\n",
       "      <td>111.8</td>\n",
       "      <td>68.4</td>\n",
       "      <td>7.71</td>\n",
       "      <td>8.06</td>\n",
       "      <td>4.0</td>\n",
       "      <td>4.0</td>\n",
       "      <td>15</td>\n",
       "    </tr>\n",
       "    <tr>\n",
       "      <th>2</th>\n",
       "      <td>29.0</td>\n",
       "      <td>17.0</td>\n",
       "      <td>17.0</td>\n",
       "      <td>71.4</td>\n",
       "      <td>4500.0</td>\n",
       "      <td>41.0</td>\n",
       "      <td>7.2</td>\n",
       "      <td>16.0</td>\n",
       "      <td>2.8</td>\n",
       "      <td>224.0</td>\n",
       "      <td>...</td>\n",
       "      <td>8.07</td>\n",
       "      <td>11.1</td>\n",
       "      <td>264.7</td>\n",
       "      <td>106.8</td>\n",
       "      <td>61.6</td>\n",
       "      <td>6.97</td>\n",
       "      <td>7.13</td>\n",
       "      <td>2.0</td>\n",
       "      <td>2.0</td>\n",
       "      <td>10</td>\n",
       "    </tr>\n",
       "    <tr>\n",
       "      <th>3</th>\n",
       "      <td>34.0</td>\n",
       "      <td>17.0</td>\n",
       "      <td>17.0</td>\n",
       "      <td>70.4</td>\n",
       "      <td>4320.0</td>\n",
       "      <td>21.0</td>\n",
       "      <td>3.6</td>\n",
       "      <td>15.0</td>\n",
       "      <td>2.6</td>\n",
       "      <td>209.0</td>\n",
       "      <td>...</td>\n",
       "      <td>7.03</td>\n",
       "      <td>10.6</td>\n",
       "      <td>254.1</td>\n",
       "      <td>93.2</td>\n",
       "      <td>53.8</td>\n",
       "      <td>6.34</td>\n",
       "      <td>5.93</td>\n",
       "      <td>4.0</td>\n",
       "      <td>4.0</td>\n",
       "      <td>10</td>\n",
       "    </tr>\n",
       "    <tr>\n",
       "      <th>4</th>\n",
       "      <td>27.0</td>\n",
       "      <td>17.0</td>\n",
       "      <td>17.0</td>\n",
       "      <td>66.2</td>\n",
       "      <td>4319.0</td>\n",
       "      <td>35.0</td>\n",
       "      <td>6.4</td>\n",
       "      <td>12.0</td>\n",
       "      <td>2.2</td>\n",
       "      <td>207.0</td>\n",
       "      <td>...</td>\n",
       "      <td>8.22</td>\n",
       "      <td>12.0</td>\n",
       "      <td>254.1</td>\n",
       "      <td>102.5</td>\n",
       "      <td>60.4</td>\n",
       "      <td>6.72</td>\n",
       "      <td>6.99</td>\n",
       "      <td>3.0</td>\n",
       "      <td>5.0</td>\n",
       "      <td>14</td>\n",
       "    </tr>\n",
       "  </tbody>\n",
       "</table>\n",
       "<p>5 rows × 23 columns</p>\n",
       "</div>"
      ],
      "text/plain": [
       "    Age     G    GS  Cmp%     Yds    TD  TD%   Int  Int%     1D  ...  AY/A  \\\n",
       "0  28.0  17.0  17.0  70.6  4918.0  43.0  6.6   9.0   1.4  253.0  ...  8.24   \n",
       "1  30.0  17.0  17.0  72.4  4629.0  37.0  6.9  12.0   2.2  236.0  ...  8.96   \n",
       "2  29.0  17.0  17.0  71.4  4500.0  41.0  7.2  16.0   2.8  224.0  ...  8.07   \n",
       "3  34.0  17.0  17.0  70.4  4320.0  21.0  3.6  15.0   2.6  209.0  ...  7.03   \n",
       "4  27.0  17.0  17.0  66.2  4319.0  35.0  6.4  12.0   2.2  207.0  ...  8.22   \n",
       "\n",
       "    Y/C    Y/G   Rate   QBR  NY/A  ANY/A  4QC  GWD  QB-Wins  \n",
       "0  10.7  289.3  108.5  74.7  6.63   7.28  1.0  2.0        9  \n",
       "1  11.9  272.3  111.8  68.4  7.71   8.06  4.0  4.0       15  \n",
       "2  11.1  264.7  106.8  61.6  6.97   7.13  2.0  2.0       10  \n",
       "3  10.6  254.1   93.2  53.8  6.34   5.93  4.0  4.0       10  \n",
       "4  12.0  254.1  102.5  60.4  6.72   6.99  3.0  5.0       14  \n",
       "\n",
       "[5 rows x 23 columns]"
      ]
     },
     "execution_count": 17,
     "metadata": {},
     "output_type": "execute_result"
    }
   ],
   "source": [
    "NFL_QB_Features = pd.read_csv(\"https://raw.githubusercontent.com/jake-lukasik/NFL-Player-Clustering/refs/heads/main/filtered-data/NFL-QB-Features.csv\")\n",
    "NFL_QB_Features = NFL_QB_Features.drop(columns=['Unnamed: 0'])\n",
    "NFL_QB_Features.head()"
   ]
  },
  {
   "cell_type": "markdown",
   "id": "ee82e3c7",
   "metadata": {},
   "source": [
    "## Use PCA to reduce dimensionality"
   ]
  },
  {
   "cell_type": "code",
   "execution_count": 18,
   "id": "f10644ac",
   "metadata": {},
   "outputs": [],
   "source": [
    "scaler = StandardScaler()\n",
    "qb_features_scaled = scaler.fit_transform(NFL_QB_Features)"
   ]
  },
  {
   "cell_type": "code",
   "execution_count": 19,
   "id": "81ecc43c",
   "metadata": {},
   "outputs": [
    {
     "name": "stdout",
     "output_type": "stream",
     "text": [
      "[0.49901136 0.14430403 0.09801523 0.07210534] 0.8134359611414516\n"
     ]
    }
   ],
   "source": [
    "pca = PCA(n_components=4)\n",
    "qb_features_pca = pca.fit_transform(qb_features_scaled)\n",
    "\n",
    "print(pca.explained_variance_ratio_, sum(pca.explained_variance_ratio_))"
   ]
  },
  {
   "cell_type": "code",
   "execution_count": 20,
   "id": "c34fc472",
   "metadata": {},
   "outputs": [],
   "source": [
    "# Save for later when we analyze PCs\n",
    "loadings = pd.DataFrame(\n",
    "    pca.components_,\n",
    "    columns=NFL_QB_Features.columns,\n",
    "    index=[f'PC{i+1}' for i in range(pca.n_components_)]\n",
    ")"
   ]
  },
  {
   "cell_type": "code",
   "execution_count": 21,
   "id": "4e097f8c",
   "metadata": {},
   "outputs": [],
   "source": [
    "top_features_per_pc = {}\n",
    "for i in range(4):  # PC1 to PC4\n",
    "    component = loadings.iloc[i]\n",
    "    top_features = component.abs().sort_values(ascending=False).head(3)\n",
    "    descriptions = [f\"{feat} ({component[feat]:.2f})\" for feat in top_features.index]\n",
    "    top_features_per_pc[f\"PC{i+1}\"] = \"\\n\".join(descriptions)"
   ]
  },
  {
   "cell_type": "markdown",
   "id": "4535808c",
   "metadata": {},
   "source": [
    "Using 4 component PCA, 81.3% of total variability explained, reduced dimensions from 25 to 4."
   ]
  },
  {
   "cell_type": "markdown",
   "id": "5738a0e7",
   "metadata": {},
   "source": [
    "## Cluster QBs using K Means"
   ]
  },
  {
   "cell_type": "code",
   "execution_count": 22,
   "id": "330b5e17",
   "metadata": {},
   "outputs": [],
   "source": [
    "kmeans = KMeans(n_clusters=4, random_state=42)\n",
    "clusters = kmeans.fit_predict(qb_features_pca)"
   ]
  },
  {
   "cell_type": "code",
   "execution_count": 23,
   "id": "8707bee0",
   "metadata": {},
   "outputs": [],
   "source": [
    "NFL_QB_Identifiers['Cluster'] = clusters\n",
    "NFL_QB_Features['Cluster'] = clusters"
   ]
  },
  {
   "cell_type": "markdown",
   "id": "e5802e88",
   "metadata": {},
   "source": [
    "## Analyze Principal Components"
   ]
  },
  {
   "cell_type": "code",
   "execution_count": 24,
   "id": "c43b7d47",
   "metadata": {},
   "outputs": [
    {
     "data": {
      "image/png": "[encoded data removed]",
      "text/plain": [
       "<Figure size 1200x600 with 2 Axes>"
      ]
     },
     "metadata": {},
     "output_type": "display_data"
    }
   ],
   "source": [
    "plt.figure(figsize=(12, 6))\n",
    "sns.heatmap(loadings.T, cmap='coolwarm', center=0, annot=True)\n",
    "plt.title(\"PCA Loadings\")\n",
    "plt.xlabel(\"Principal Components\")\n",
    "plt.ylabel(\"Original Features\")\n",
    "plt.tight_layout()\n",
    "plt.show()"
   ]
  },
  {
   "cell_type": "markdown",
   "id": "34803a0c",
   "metadata": {},
   "source": [
    "## Analyze Clusters"
   ]
  },
  {
   "cell_type": "code",
   "execution_count": 25,
   "id": "9b88f23f",
   "metadata": {},
   "outputs": [],
   "source": [
    "pca_df = pd.DataFrame(qb_features_pca[:, :4], columns=['PC1', 'PC2', 'PC3', 'PC4'])\n",
    "\n",
    "pca_df['Player'] = NFL_QB_Identifiers['Player'].values\n",
    "pca_df['Team'] = NFL_QB_Identifiers['Team'].values\n",
    "pca_df['Cluster'] = clusters\n"
   ]
  },
  {
   "cell_type": "code",
   "execution_count": 26,
   "id": "034541ac",
   "metadata": {},
   "outputs": [
    {
     "data": {
      "application/vnd.plotly.v1+json": {
       "config": {
        "plotlyServerURL": "https://plot.ly"
       },
       "data": [
        {
         "customdata": [
          [
           "CIN"
          ],
          [
           "DET"
          ],
          [
           "TAM"
          ],
          [
           "SEA"
          ],
          [
           "MIN"
          ],
          [
           "BAL"
          ],
          [
           "KAN"
          ],
          [
           "NYJ"
          ],
          [
           "LAC"
          ],
          [
           "SFO"
          ],
          [
           "ARI"
          ],
          [
           "DEN"
          ],
          [
           "LAR"
          ],
          [
           "BUF"
          ],
          [
           "HOU"
          ],
          [
           "WAS"
          ],
          [
           "CHI"
          ],
          [
           "ATL"
          ],
          [
           "GNB"
          ],
          [
           "PHI"
          ],
          [
           "MIA"
          ],
          [
           "PIT"
          ],
          [
           "CAR"
          ],
          [
           "NWE"
          ],
          [
           "NOR"
          ],
          [
           "TEN"
          ],
          [
           "NYG"
          ],
          [
           "JAX"
          ],
          [
           "LVR"
          ],
          [
           "IND"
          ]
         ],
         "hovertemplate": "<b>%{text}</b><br>Team: %{customdata[0]}<br>Cluster: %{marker.color}<extra></extra>",
         "marker": {
          "color": {
           "bdata": "AgAAAAIAAAACAAAAAAAAAAIAAAACAAAAAAAAAAAAAAAAAAAAAwAAAAAAAAAAAAAAAAAAAAIAAAAAAAAAAAAAAAAAAAAAAAAAAwAAAAAAAAADAAAAAwAAAAEAAAABAAAAAwAAAAEAAAABAAAAAQAAAAEAAAABAAAA",
           "dtype": "i4"
          },
          "colorscale": [
           [
            0,
            "#440154"
           ],
           [
            0.1111111111111111,
            "#482878"
           ],
           [
            0.2222222222222222,
            "#3e4989"
           ],
           [
            0.3333333333333333,
            "#31688e"
           ],
           [
            0.4444444444444444,
            "#26828e"
           ],
           [
            0.5555555555555556,
            "#1f9e89"
           ],
           [
            0.6666666666666666,
            "#35b779"
           ],
           [
            0.7777777777777778,
            "#6ece58"
           ],
           [
            0.8888888888888888,
            "#b5de2b"
           ],
           [
            1,
            "#fde725"
           ]
          ],
          "size": 12
         },
         "mode": "markers+text",
         "name": "PC1 vs PC2",
         "showlegend": false,
         "text": [
          "Joe Burrow",
          "Jared Goff",
          "Baker Mayfield",
          "Geno Smith",
          "Sam Darnold",
          "Lamar Jackson",
          "Patrick Mahomes",
          "Aaron Rodgers",
          "Justin Herbert",
          "Brock Purdy",
          "Kyler Murray",
          "Bo Nix",
          "Matthew Stafford",
          "Josh Allen",
          "C.J. Stroud",
          "Jayden Daniels",
          "Caleb Williams",
          "Kirk Cousins",
          "Jordan Love",
          "Jalen Hurts",
          "Tua Tagovailoa",
          "Russell Wilson",
          "Bryce Young",
          "Drake Maye",
          "Derek Carr",
          "Will Levis",
          "Daniel Jones",
          "Trevor Lawrence",
          "Gardner Minshew II",
          "Anthony Richardson"
         ],
         "textposition": "top center",
         "type": "scatter",
         "visible": true,
         "x": {
          "bdata": "s3qJgogsEkBKCwYtKlYYQEOs5uQjTA9AQz2sdNfX9T/wIClW3ZcMQANmuDCkuRlAEB/Tu+GC/T9bP80YibTLv5I5J/inVPw/d/DlK0OJ+j93mMf5LOfsP5BKWQaLWdY/TCbIAf/69D/WDwpwE/MFQJGOckmURPG/ux+tiOPP/D8Hszc6LwYDwPB9wYM539O/1en73r15+D/twJkhNR70PyY0Fr9q2rw/kx1sEy9a/L/bIC2WvUEQwDxAJJYf/g7ADJu0aoLJ7L+S+zq0ZNAVwG/69GuXPBfAqM20CCn6C8BbYn60/LgVwOb+YEs8oRnA",
          "dtype": "f8"
         },
         "y": {
          "bdata": "QiOVz9nXwz+LgPKinnLUP0RGExCW/uw/nGI/VHAaCUC9dveRMQXwP0xM2dembQ3A9NpUEhKADEAS4kUCtpgAQFbCa91Cs/a/kJ1UpH5X/L+UzGwKe8D6PxDErHK5NgBAJNWX0+0B8j/XDdUFMQkBwBFIvpN6ifg/99/OQly98D/tu/Pr2X74P5sW7RcLhvU/3Q/75efd+L+PPefaeQjyv0PRsSJvUOq/Ep3Gd2EbAcAd6yr+WTPlPzNEPOyVm+K/J/refh/WDsAUfSYon9TFP62Fn2UGxdG/0/mL6GLfBMCAV+Q3QqDKP7xEDHQkfeC/",
          "dtype": "f8"
         }
        },
        {
         "customdata": [
          [
           "CIN"
          ],
          [
           "DET"
          ],
          [
           "TAM"
          ],
          [
           "SEA"
          ],
          [
           "MIN"
          ],
          [
           "BAL"
          ],
          [
           "KAN"
          ],
          [
           "NYJ"
          ],
          [
           "LAC"
          ],
          [
           "SFO"
          ],
          [
           "ARI"
          ],
          [
           "DEN"
          ],
          [
           "LAR"
          ],
          [
           "BUF"
          ],
          [
           "HOU"
          ],
          [
           "WAS"
          ],
          [
           "CHI"
          ],
          [
           "ATL"
          ],
          [
           "GNB"
          ],
          [
           "PHI"
          ],
          [
           "MIA"
          ],
          [
           "PIT"
          ],
          [
           "CAR"
          ],
          [
           "NWE"
          ],
          [
           "NOR"
          ],
          [
           "TEN"
          ],
          [
           "NYG"
          ],
          [
           "JAX"
          ],
          [
           "LVR"
          ],
          [
           "IND"
          ]
         ],
         "hovertemplate": "<b>%{text}</b><br>Team: %{customdata[0]}<br>Cluster: %{marker.color}<extra></extra>",
         "marker": {
          "color": {
           "bdata": "AgAAAAIAAAACAAAAAAAAAAIAAAACAAAAAAAAAAAAAAAAAAAAAwAAAAAAAAAAAAAAAAAAAAIAAAAAAAAAAAAAAAAAAAAAAAAAAwAAAAAAAAADAAAAAwAAAAEAAAABAAAAAwAAAAEAAAABAAAAAQAAAAEAAAABAAAA",
           "dtype": "i4"
          },
          "colorscale": [
           [
            0,
            "#440154"
           ],
           [
            0.1111111111111111,
            "#482878"
           ],
           [
            0.2222222222222222,
            "#3e4989"
           ],
           [
            0.3333333333333333,
            "#31688e"
           ],
           [
            0.4444444444444444,
            "#26828e"
           ],
           [
            0.5555555555555556,
            "#1f9e89"
           ],
           [
            0.6666666666666666,
            "#35b779"
           ],
           [
            0.7777777777777778,
            "#6ece58"
           ],
           [
            0.8888888888888888,
            "#b5de2b"
           ],
           [
            1,
            "#fde725"
           ]
          ],
          "size": 12
         },
         "mode": "markers+text",
         "name": "PC1 vs PC3",
         "showlegend": false,
         "text": [
          "Joe Burrow",
          "Jared Goff",
          "Baker Mayfield",
          "Geno Smith",
          "Sam Darnold",
          "Lamar Jackson",
          "Patrick Mahomes",
          "Aaron Rodgers",
          "Justin Herbert",
          "Brock Purdy",
          "Kyler Murray",
          "Bo Nix",
          "Matthew Stafford",
          "Josh Allen",
          "C.J. Stroud",
          "Jayden Daniels",
          "Caleb Williams",
          "Kirk Cousins",
          "Jordan Love",
          "Jalen Hurts",
          "Tua Tagovailoa",
          "Russell Wilson",
          "Bryce Young",
          "Drake Maye",
          "Derek Carr",
          "Will Levis",
          "Daniel Jones",
          "Trevor Lawrence",
          "Gardner Minshew II",
          "Anthony Richardson"
         ],
         "textposition": "top center",
         "type": "scatter",
         "visible": false,
         "x": {
          "bdata": "s3qJgogsEkBKCwYtKlYYQEOs5uQjTA9AQz2sdNfX9T/wIClW3ZcMQANmuDCkuRlAEB/Tu+GC/T9bP80YibTLv5I5J/inVPw/d/DlK0OJ+j93mMf5LOfsP5BKWQaLWdY/TCbIAf/69D/WDwpwE/MFQJGOckmURPG/ux+tiOPP/D8Hszc6LwYDwPB9wYM539O/1en73r15+D/twJkhNR70PyY0Fr9q2rw/kx1sEy9a/L/bIC2WvUEQwDxAJJYf/g7ADJu0aoLJ7L+S+zq0ZNAVwG/69GuXPBfAqM20CCn6C8BbYn60/LgVwOb+YEs8oRnA",
          "dtype": "f8"
         },
         "y": {
          "bdata": "p/S7EJsu/L/gh/1kDPnwP3mq3bccNra/YHOOHk+f0z/I35NIzkv/PyK0oWqHjOI/+srCjvh5278SSeMK3U3jv9WGlp0nMPG/Prms0NMT9j/PwkUARAPrv3dp+kWQu9w/QH+L9oNs2L96PBtpUqXMv2HC88nDftM/p3TX7a473z+hIZNHOOEAwPRUrIsrZPM/kLpX93jq+T89TTQNxNOBv3DWYSGObv2/q52AKtYm+L9KE619fxvYP9A1Fm5gLPm/Ncun6EmC7r8ibiLhvOT9P+mfKig+CwXAQ1sznXKD4D9xUwB7NL7wvznNe+yb1RNA",
          "dtype": "f8"
         }
        },
        {
         "customdata": [
          [
           "CIN"
          ],
          [
           "DET"
          ],
          [
           "TAM"
          ],
          [
           "SEA"
          ],
          [
           "MIN"
          ],
          [
           "BAL"
          ],
          [
           "KAN"
          ],
          [
           "NYJ"
          ],
          [
           "LAC"
          ],
          [
           "SFO"
          ],
          [
           "ARI"
          ],
          [
           "DEN"
          ],
          [
           "LAR"
          ],
          [
           "BUF"
          ],
          [
           "HOU"
          ],
          [
           "WAS"
          ],
          [
           "CHI"
          ],
          [
           "ATL"
          ],
          [
           "GNB"
          ],
          [
           "PHI"
          ],
          [
           "MIA"
          ],
          [
           "PIT"
          ],
          [
           "CAR"
          ],
          [
           "NWE"
          ],
          [
           "NOR"
          ],
          [
           "TEN"
          ],
          [
           "NYG"
          ],
          [
           "JAX"
          ],
          [
           "LVR"
          ],
          [
           "IND"
          ]
         ],
         "hovertemplate": "<b>%{text}</b><br>Team: %{customdata[0]}<br>Cluster: %{marker.color}<extra></extra>",
         "marker": {
          "color": {
           "bdata": "AgAAAAIAAAACAAAAAAAAAAIAAAACAAAAAAAAAAAAAAAAAAAAAwAAAAAAAAAAAAAAAAAAAAIAAAAAAAAAAAAAAAAAAAAAAAAAAwAAAAAAAAADAAAAAwAAAAEAAAABAAAAAwAAAAEAAAABAAAAAQAAAAEAAAABAAAA",
           "dtype": "i4"
          },
          "colorscale": [
           [
            0,
            "#440154"
           ],
           [
            0.1111111111111111,
            "#482878"
           ],
           [
            0.2222222222222222,
            "#3e4989"
           ],
           [
            0.3333333333333333,
            "#31688e"
           ],
           [
            0.4444444444444444,
            "#26828e"
           ],
           [
            0.5555555555555556,
            "#1f9e89"
           ],
           [
            0.6666666666666666,
            "#35b779"
           ],
           [
            0.7777777777777778,
            "#6ece58"
           ],
           [
            0.8888888888888888,
            "#b5de2b"
           ],
           [
            1,
            "#fde725"
           ]
          ],
          "size": 12
         },
         "mode": "markers+text",
         "name": "PC1 vs PC4",
         "showlegend": false,
         "text": [
          "Joe Burrow",
          "Jared Goff",
          "Baker Mayfield",
          "Geno Smith",
          "Sam Darnold",
          "Lamar Jackson",
          "Patrick Mahomes",
          "Aaron Rodgers",
          "Justin Herbert",
          "Brock Purdy",
          "Kyler Murray",
          "Bo Nix",
          "Matthew Stafford",
          "Josh Allen",
          "C.J. Stroud",
          "Jayden Daniels",
          "Caleb Williams",
          "Kirk Cousins",
          "Jordan Love",
          "Jalen Hurts",
          "Tua Tagovailoa",
          "Russell Wilson",
          "Bryce Young",
          "Drake Maye",
          "Derek Carr",
          "Will Levis",
          "Daniel Jones",
          "Trevor Lawrence",
          "Gardner Minshew II",
          "Anthony Richardson"
         ],
         "textposition": "top center",
         "type": "scatter",
         "visible": false,
         "x": {
          "bdata": "s3qJgogsEkBKCwYtKlYYQEOs5uQjTA9AQz2sdNfX9T/wIClW3ZcMQANmuDCkuRlAEB/Tu+GC/T9bP80YibTLv5I5J/inVPw/d/DlK0OJ+j93mMf5LOfsP5BKWQaLWdY/TCbIAf/69D/WDwpwE/MFQJGOckmURPG/ux+tiOPP/D8Hszc6LwYDwPB9wYM539O/1en73r15+D/twJkhNR70PyY0Fr9q2rw/kx1sEy9a/L/bIC2WvUEQwDxAJJYf/g7ADJu0aoLJ7L+S+zq0ZNAVwG/69GuXPBfAqM20CCn6C8BbYn60/LgVwOb+YEs8oRnA",
          "dtype": "f8"
         },
         "y": {
          "bdata": "Rz0KTRnh2D9T/+XMKqPzP7dAW0fbagBAQyfbcSB/9j/wBPs4iBHZvxwBWb6U2PC/vPENelYL4785QBV+CR7YPwFdtNcwcAHAe1f+rpdS9D+3U1ZFFLW1v+xSJ68k1fG/TEJ+sy8fxL9e6s8Kx6P3v7r1HNN+ifG/dG5sSjiP979r5/hAQ3sDwPyM7BIxawZAtjYmjDjb0j9oVcVud1f3v/t2aHdxwvU/W5n+VBYI5z+bUFobp6b7v5JCix4Lh8s/G5GVJDKw8j+e401C7pXhP2cNMPoSq9Q/Ap3DD3Fv0D9ZeAhQRXT7P8a+eX36OOy/",
          "dtype": "f8"
         }
        },
        {
         "customdata": [
          [
           "CIN"
          ],
          [
           "DET"
          ],
          [
           "TAM"
          ],
          [
           "SEA"
          ],
          [
           "MIN"
          ],
          [
           "BAL"
          ],
          [
           "KAN"
          ],
          [
           "NYJ"
          ],
          [
           "LAC"
          ],
          [
           "SFO"
          ],
          [
           "ARI"
          ],
          [
           "DEN"
          ],
          [
           "LAR"
          ],
          [
           "BUF"
          ],
          [
           "HOU"
          ],
          [
           "WAS"
          ],
          [
           "CHI"
          ],
          [
           "ATL"
          ],
          [
           "GNB"
          ],
          [
           "PHI"
          ],
          [
           "MIA"
          ],
          [
           "PIT"
          ],
          [
           "CAR"
          ],
          [
           "NWE"
          ],
          [
           "NOR"
          ],
          [
           "TEN"
          ],
          [
           "NYG"
          ],
          [
           "JAX"
          ],
          [
           "LVR"
          ],
          [
           "IND"
          ]
         ],
         "hovertemplate": "<b>%{text}</b><br>Team: %{customdata[0]}<br>Cluster: %{marker.color}<extra></extra>",
         "marker": {
          "color": {
           "bdata": "AgAAAAIAAAACAAAAAAAAAAIAAAACAAAAAAAAAAAAAAAAAAAAAwAAAAAAAAAAAAAAAAAAAAIAAAAAAAAAAAAAAAAAAAAAAAAAAwAAAAAAAAADAAAAAwAAAAEAAAABAAAAAwAAAAEAAAABAAAAAQAAAAEAAAABAAAA",
           "dtype": "i4"
          },
          "colorscale": [
           [
            0,
            "#440154"
           ],
           [
            0.1111111111111111,
            "#482878"
           ],
           [
            0.2222222222222222,
            "#3e4989"
           ],
           [
            0.3333333333333333,
            "#31688e"
           ],
           [
            0.4444444444444444,
            "#26828e"
           ],
           [
            0.5555555555555556,
            "#1f9e89"
           ],
           [
            0.6666666666666666,
            "#35b779"
           ],
           [
            0.7777777777777778,
            "#6ece58"
           ],
           [
            0.8888888888888888,
            "#b5de2b"
           ],
           [
            1,
            "#fde725"
           ]
          ],
          "size": 12
         },
         "mode": "markers+text",
         "name": "PC2 vs PC3",
         "showlegend": false,
         "text": [
          "Joe Burrow",
          "Jared Goff",
          "Baker Mayfield",
          "Geno Smith",
          "Sam Darnold",
          "Lamar Jackson",
          "Patrick Mahomes",
          "Aaron Rodgers",
          "Justin Herbert",
          "Brock Purdy",
          "Kyler Murray",
          "Bo Nix",
          "Matthew Stafford",
          "Josh Allen",
          "C.J. Stroud",
          "Jayden Daniels",
          "Caleb Williams",
          "Kirk Cousins",
          "Jordan Love",
          "Jalen Hurts",
          "Tua Tagovailoa",
          "Russell Wilson",
          "Bryce Young",
          "Drake Maye",
          "Derek Carr",
          "Will Levis",
          "Daniel Jones",
          "Trevor Lawrence",
          "Gardner Minshew II",
          "Anthony Richardson"
         ],
         "textposition": "top center",
         "type": "scatter",
         "visible": false,
         "x": {
          "bdata": "QiOVz9nXwz+LgPKinnLUP0RGExCW/uw/nGI/VHAaCUC9dveRMQXwP0xM2dembQ3A9NpUEhKADEAS4kUCtpgAQFbCa91Cs/a/kJ1UpH5X/L+UzGwKe8D6PxDErHK5NgBAJNWX0+0B8j/XDdUFMQkBwBFIvpN6ifg/99/OQly98D/tu/Pr2X74P5sW7RcLhvU/3Q/75efd+L+PPefaeQjyv0PRsSJvUOq/Ep3Gd2EbAcAd6yr+WTPlPzNEPOyVm+K/J/refh/WDsAUfSYon9TFP62Fn2UGxdG/0/mL6GLfBMCAV+Q3QqDKP7xEDHQkfeC/",
          "dtype": "f8"
         },
         "y": {
          "bdata": "p/S7EJsu/L/gh/1kDPnwP3mq3bccNra/YHOOHk+f0z/I35NIzkv/PyK0oWqHjOI/+srCjvh5278SSeMK3U3jv9WGlp0nMPG/Prms0NMT9j/PwkUARAPrv3dp+kWQu9w/QH+L9oNs2L96PBtpUqXMv2HC88nDftM/p3TX7a473z+hIZNHOOEAwPRUrIsrZPM/kLpX93jq+T89TTQNxNOBv3DWYSGObv2/q52AKtYm+L9KE619fxvYP9A1Fm5gLPm/Ncun6EmC7r8ibiLhvOT9P+mfKig+CwXAQ1sznXKD4D9xUwB7NL7wvznNe+yb1RNA",
          "dtype": "f8"
         }
        },
        {
         "customdata": [
          [
           "CIN"
          ],
          [
           "DET"
          ],
          [
           "TAM"
          ],
          [
           "SEA"
          ],
          [
           "MIN"
          ],
          [
           "BAL"
          ],
          [
           "KAN"
          ],
          [
           "NYJ"
          ],
          [
           "LAC"
          ],
          [
           "SFO"
          ],
          [
           "ARI"
          ],
          [
           "DEN"
          ],
          [
           "LAR"
          ],
          [
           "BUF"
          ],
          [
           "HOU"
          ],
          [
           "WAS"
          ],
          [
           "CHI"
          ],
          [
           "ATL"
          ],
          [
           "GNB"
          ],
          [
           "PHI"
          ],
          [
           "MIA"
          ],
          [
           "PIT"
          ],
          [
           "CAR"
          ],
          [
           "NWE"
          ],
          [
           "NOR"
          ],
          [
           "TEN"
          ],
          [
           "NYG"
          ],
          [
           "JAX"
          ],
          [
           "LVR"
          ],
          [
           "IND"
          ]
         ],
         "hovertemplate": "<b>%{text}</b><br>Team: %{customdata[0]}<br>Cluster: %{marker.color}<extra></extra>",
         "marker": {
          "color": {
           "bdata": "AgAAAAIAAAACAAAAAAAAAAIAAAACAAAAAAAAAAAAAAAAAAAAAwAAAAAAAAAAAAAAAAAAAAIAAAAAAAAAAAAAAAAAAAAAAAAAAwAAAAAAAAADAAAAAwAAAAEAAAABAAAAAwAAAAEAAAABAAAAAQAAAAEAAAABAAAA",
           "dtype": "i4"
          },
          "colorscale": [
           [
            0,
            "#440154"
           ],
           [
            0.1111111111111111,
            "#482878"
           ],
           [
            0.2222222222222222,
            "#3e4989"
           ],
           [
            0.3333333333333333,
            "#31688e"
           ],
           [
            0.4444444444444444,
            "#26828e"
           ],
           [
            0.5555555555555556,
            "#1f9e89"
           ],
           [
            0.6666666666666666,
            "#35b779"
           ],
           [
            0.7777777777777778,
            "#6ece58"
           ],
           [
            0.8888888888888888,
            "#b5de2b"
           ],
           [
            1,
            "#fde725"
           ]
          ],
          "size": 12
         },
         "mode": "markers+text",
         "name": "PC2 vs PC4",
         "showlegend": false,
         "text": [
          "Joe Burrow",
          "Jared Goff",
          "Baker Mayfield",
          "Geno Smith",
          "Sam Darnold",
          "Lamar Jackson",
          "Patrick Mahomes",
          "Aaron Rodgers",
          "Justin Herbert",
          "Brock Purdy",
          "Kyler Murray",
          "Bo Nix",
          "Matthew Stafford",
          "Josh Allen",
          "C.J. Stroud",
          "Jayden Daniels",
          "Caleb Williams",
          "Kirk Cousins",
          "Jordan Love",
          "Jalen Hurts",
          "Tua Tagovailoa",
          "Russell Wilson",
          "Bryce Young",
          "Drake Maye",
          "Derek Carr",
          "Will Levis",
          "Daniel Jones",
          "Trevor Lawrence",
          "Gardner Minshew II",
          "Anthony Richardson"
         ],
         "textposition": "top center",
         "type": "scatter",
         "visible": false,
         "x": {
          "bdata": "QiOVz9nXwz+LgPKinnLUP0RGExCW/uw/nGI/VHAaCUC9dveRMQXwP0xM2dembQ3A9NpUEhKADEAS4kUCtpgAQFbCa91Cs/a/kJ1UpH5X/L+UzGwKe8D6PxDErHK5NgBAJNWX0+0B8j/XDdUFMQkBwBFIvpN6ifg/99/OQly98D/tu/Pr2X74P5sW7RcLhvU/3Q/75efd+L+PPefaeQjyv0PRsSJvUOq/Ep3Gd2EbAcAd6yr+WTPlPzNEPOyVm+K/J/refh/WDsAUfSYon9TFP62Fn2UGxdG/0/mL6GLfBMCAV+Q3QqDKP7xEDHQkfeC/",
          "dtype": "f8"
         },
         "y": {
          "bdata": "Rz0KTRnh2D9T/+XMKqPzP7dAW0fbagBAQyfbcSB/9j/wBPs4iBHZvxwBWb6U2PC/vPENelYL4785QBV+CR7YPwFdtNcwcAHAe1f+rpdS9D+3U1ZFFLW1v+xSJ68k1fG/TEJ+sy8fxL9e6s8Kx6P3v7r1HNN+ifG/dG5sSjiP979r5/hAQ3sDwPyM7BIxawZAtjYmjDjb0j9oVcVud1f3v/t2aHdxwvU/W5n+VBYI5z+bUFobp6b7v5JCix4Lh8s/G5GVJDKw8j+e401C7pXhP2cNMPoSq9Q/Ap3DD3Fv0D9ZeAhQRXT7P8a+eX36OOy/",
          "dtype": "f8"
         }
        },
        {
         "customdata": [
          [
           "CIN"
          ],
          [
           "DET"
          ],
          [
           "TAM"
          ],
          [
           "SEA"
          ],
          [
           "MIN"
          ],
          [
           "BAL"
          ],
          [
           "KAN"
          ],
          [
           "NYJ"
          ],
          [
           "LAC"
          ],
          [
           "SFO"
          ],
          [
           "ARI"
          ],
          [
           "DEN"
          ],
          [
           "LAR"
          ],
          [
           "BUF"
          ],
          [
           "HOU"
          ],
          [
           "WAS"
          ],
          [
           "CHI"
          ],
          [
           "ATL"
          ],
          [
           "GNB"
          ],
          [
           "PHI"
          ],
          [
           "MIA"
          ],
          [
           "PIT"
          ],
          [
           "CAR"
          ],
          [
           "NWE"
          ],
          [
           "NOR"
          ],
          [
           "TEN"
          ],
          [
           "NYG"
          ],
          [
           "JAX"
          ],
          [
           "LVR"
          ],
          [
           "IND"
          ]
         ],
         "hovertemplate": "<b>%{text}</b><br>Team: %{customdata[0]}<br>Cluster: %{marker.color}<extra></extra>",
         "marker": {
          "color": {
           "bdata": "AgAAAAIAAAACAAAAAAAAAAIAAAACAAAAAAAAAAAAAAAAAAAAAwAAAAAAAAAAAAAAAAAAAAIAAAAAAAAAAAAAAAAAAAAAAAAAAwAAAAAAAAADAAAAAwAAAAEAAAABAAAAAwAAAAEAAAABAAAAAQAAAAEAAAABAAAA",
           "dtype": "i4"
          },
          "colorscale": [
           [
            0,
            "#440154"
           ],
           [
            0.1111111111111111,
            "#482878"
           ],
           [
            0.2222222222222222,
            "#3e4989"
           ],
           [
            0.3333333333333333,
            "#31688e"
           ],
           [
            0.4444444444444444,
            "#26828e"
           ],
           [
            0.5555555555555556,
            "#1f9e89"
           ],
           [
            0.6666666666666666,
            "#35b779"
           ],
           [
            0.7777777777777778,
            "#6ece58"
           ],
           [
            0.8888888888888888,
            "#b5de2b"
           ],
           [
            1,
            "#fde725"
           ]
          ],
          "size": 12
         },
         "mode": "markers+text",
         "name": "PC3 vs PC4",
         "showlegend": false,
         "text": [
          "Joe Burrow",
          "Jared Goff",
          "Baker Mayfield",
          "Geno Smith",
          "Sam Darnold",
          "Lamar Jackson",
          "Patrick Mahomes",
          "Aaron Rodgers",
          "Justin Herbert",
          "Brock Purdy",
          "Kyler Murray",
          "Bo Nix",
          "Matthew Stafford",
          "Josh Allen",
          "C.J. Stroud",
          "Jayden Daniels",
          "Caleb Williams",
          "Kirk Cousins",
          "Jordan Love",
          "Jalen Hurts",
          "Tua Tagovailoa",
          "Russell Wilson",
          "Bryce Young",
          "Drake Maye",
          "Derek Carr",
          "Will Levis",
          "Daniel Jones",
          "Trevor Lawrence",
          "Gardner Minshew II",
          "Anthony Richardson"
         ],
         "textposition": "top center",
         "type": "scatter",
         "visible": false,
         "x": {
          "bdata": "p/S7EJsu/L/gh/1kDPnwP3mq3bccNra/YHOOHk+f0z/I35NIzkv/PyK0oWqHjOI/+srCjvh5278SSeMK3U3jv9WGlp0nMPG/Prms0NMT9j/PwkUARAPrv3dp+kWQu9w/QH+L9oNs2L96PBtpUqXMv2HC88nDftM/p3TX7a473z+hIZNHOOEAwPRUrIsrZPM/kLpX93jq+T89TTQNxNOBv3DWYSGObv2/q52AKtYm+L9KE619fxvYP9A1Fm5gLPm/Ncun6EmC7r8ibiLhvOT9P+mfKig+CwXAQ1sznXKD4D9xUwB7NL7wvznNe+yb1RNA",
          "dtype": "f8"
         },
         "y": {
          "bdata": "Rz0KTRnh2D9T/+XMKqPzP7dAW0fbagBAQyfbcSB/9j/wBPs4iBHZvxwBWb6U2PC/vPENelYL4785QBV+CR7YPwFdtNcwcAHAe1f+rpdS9D+3U1ZFFLW1v+xSJ68k1fG/TEJ+sy8fxL9e6s8Kx6P3v7r1HNN+ifG/dG5sSjiP979r5/hAQ3sDwPyM7BIxawZAtjYmjDjb0j9oVcVud1f3v/t2aHdxwvU/W5n+VBYI5z+bUFobp6b7v5JCix4Lh8s/G5GVJDKw8j+e401C7pXhP2cNMPoSq9Q/Ap3DD3Fv0D9ZeAhQRXT7P8a+eX36OOy/",
          "dtype": "f8"
         }
        }
       ],
       "layout": {
        "annotations": [
         {
          "align": "left",
          "bgcolor": "white",
          "bordercolor": "black",
          "borderwidth": 1,
          "font": {
           "size": 12
          },
          "opacity": 0.9,
          "showarrow": false,
          "text": "<b>PC1</b><br>Rate (0.27)\nTD (0.26)\nAY/A (0.26)",
          "x": 1.5,
          "xref": "paper",
          "y": 1,
          "yref": "paper"
         },
         {
          "align": "left",
          "bgcolor": "white",
          "bordercolor": "black",
          "borderwidth": 1,
          "font": {
           "size": 12
          },
          "opacity": 0.9,
          "showarrow": false,
          "text": "<b>PC2</b><br>4QC (0.35)\nInt (0.35)\nGWD (0.31)",
          "x": 1.5,
          "xref": "paper",
          "y": 0.75,
          "yref": "paper"
         },
         {
          "align": "left",
          "bgcolor": "white",
          "bordercolor": "black",
          "borderwidth": 1,
          "font": {
           "size": 12
          },
          "opacity": 0.9,
          "showarrow": false,
          "text": "<b>PC3</b><br>Y/C (0.49)\nInt% (0.40)\nLng (0.36)",
          "x": 1.5,
          "xref": "paper",
          "y": 0.5,
          "yref": "paper"
         },
         {
          "align": "left",
          "bgcolor": "white",
          "bordercolor": "black",
          "borderwidth": 1,
          "font": {
           "size": 12
          },
          "opacity": 0.9,
          "showarrow": false,
          "text": "<b>PC4</b><br>Int (0.40)\nAge (0.39)\nInt% (0.37)",
          "x": 1.5,
          "xref": "paper",
          "y": 0.25,
          "yref": "paper"
         }
        ],
        "height": 700,
        "margin": {
         "r": 275,
         "t": 100
        },
        "template": {
         "data": {
          "bar": [
           {
            "error_x": {
             "color": "#2a3f5f"
            },
            "error_y": {
             "color": "#2a3f5f"
            },
            "marker": {
             "line": {
              "color": "#E5ECF6",
              "width": 0.5
             },
             "pattern": {
              "fillmode": "overlay",
              "size": 10,
              "solidity": 0.2
             }
            },
            "type": "bar"
           }
          ],
          "barpolar": [
           {
            "marker": {
             "line": {
              "color": "#E5ECF6",
              "width": 0.5
             },
             "pattern": {
              "fillmode": "overlay",
              "size": 10,
              "solidity": 0.2
             }
            },
            "type": "barpolar"
           }
          ],
          "carpet": [
           {
            "aaxis": {
             "endlinecolor": "#2a3f5f",
             "gridcolor": "white",
             "linecolor": "white",
             "minorgridcolor": "white",
             "startlinecolor": "#2a3f5f"
            },
            "baxis": {
             "endlinecolor": "#2a3f5f",
             "gridcolor": "white",
             "linecolor": "white",
             "minorgridcolor": "white",
             "startlinecolor": "#2a3f5f"
            },
            "type": "carpet"
           }
          ],
          "choropleth": [
           {
            "colorbar": {
             "outlinewidth": 0,
             "ticks": ""
            },
            "type": "choropleth"
           }
          ],
          "contour": [
           {
            "colorbar": {
             "outlinewidth": 0,
             "ticks": ""
            },
            "colorscale": [
             [
              0,
              "#0d0887"
             ],
             [
              0.1111111111111111,
              "#46039f"
             ],
             [
              0.2222222222222222,
              "#7201a8"
             ],
             [
              0.3333333333333333,
              "#9c179e"
             ],
             [
              0.4444444444444444,
              "#bd3786"
             ],
             [
              0.5555555555555556,
              "#d8576b"
             ],
             [
              0.6666666666666666,
              "#ed7953"
             ],
             [
              0.7777777777777778,
              "#fb9f3a"
             ],
             [
              0.8888888888888888,
              "#fdca26"
             ],
             [
              1,
              "#f0f921"
             ]
            ],
            "type": "contour"
           }
          ],
          "contourcarpet": [
           {
            "colorbar": {
             "outlinewidth": 0,
             "ticks": ""
            },
            "type": "contourcarpet"
           }
          ],
          "heatmap": [
           {
            "colorbar": {
             "outlinewidth": 0,
             "ticks": ""
            },
            "colorscale": [
             [
              0,
              "#0d0887"
             ],
             [
              0.1111111111111111,
              "#46039f"
             ],
             [
              0.2222222222222222,
              "#7201a8"
             ],
             [
              0.3333333333333333,
              "#9c179e"
             ],
             [
              0.4444444444444444,
              "#bd3786"
             ],
             [
              0.5555555555555556,
              "#d8576b"
             ],
             [
              0.6666666666666666,
              "#ed7953"
             ],
             [
              0.7777777777777778,
              "#fb9f3a"
             ],
             [
              0.8888888888888888,
              "#fdca26"
             ],
             [
              1,
              "#f0f921"
             ]
            ],
            "type": "heatmap"
           }
          ],
          "histogram": [
           {
            "marker": {
             "pattern": {
              "fillmode": "overlay",
              "size": 10,
              "solidity": 0.2
             }
            },
            "type": "histogram"
           }
          ],
          "histogram2d": [
           {
            "colorbar": {
             "outlinewidth": 0,
             "ticks": ""
            },
            "colorscale": [
             [
              0,
              "#0d0887"
             ],
             [
              0.1111111111111111,
              "#46039f"
             ],
             [
              0.2222222222222222,
              "#7201a8"
             ],
             [
              0.3333333333333333,
              "#9c179e"
             ],
             [
              0.4444444444444444,
              "#bd3786"
             ],
             [
              0.5555555555555556,
              "#d8576b"
             ],
             [
              0.6666666666666666,
              "#ed7953"
             ],
             [
              0.7777777777777778,
              "#fb9f3a"
             ],
             [
              0.8888888888888888,
              "#fdca26"
             ],
             [
              1,
              "#f0f921"
             ]
            ],
            "type": "histogram2d"
           }
          ],
          "histogram2dcontour": [
           {
            "colorbar": {
             "outlinewidth": 0,
             "ticks": ""
            },
            "colorscale": [
             [
              0,
              "#0d0887"
             ],
             [
              0.1111111111111111,
              "#46039f"
             ],
             [
              0.2222222222222222,
              "#7201a8"
             ],
             [
              0.3333333333333333,
              "#9c179e"
             ],
             [
              0.4444444444444444,
              "#bd3786"
             ],
             [
              0.5555555555555556,
              "#d8576b"
             ],
             [
              0.6666666666666666,
              "#ed7953"
             ],
             [
              0.7777777777777778,
              "#fb9f3a"
             ],
             [
              0.8888888888888888,
              "#fdca26"
             ],
             [
              1,
              "#f0f921"
             ]
            ],
            "type": "histogram2dcontour"
           }
          ],
          "mesh3d": [
           {
            "colorbar": {
             "outlinewidth": 0,
             "ticks": ""
            },
            "type": "mesh3d"
           }
          ],
          "parcoords": [
           {
            "line": {
             "colorbar": {
              "outlinewidth": 0,
              "ticks": ""
             }
            },
            "type": "parcoords"
           }
          ],
          "pie": [
           {
            "automargin": true,
            "type": "pie"
           }
          ],
          "scatter": [
           {
            "fillpattern": {
             "fillmode": "overlay",
             "size": 10,
             "solidity": 0.2
            },
            "type": "scatter"
           }
          ],
          "scatter3d": [
           {
            "line": {
             "colorbar": {
              "outlinewidth": 0,
              "ticks": ""
             }
            },
            "marker": {
             "colorbar": {
              "outlinewidth": 0,
              "ticks": ""
             }
            },
            "type": "scatter3d"
           }
          ],
          "scattercarpet": [
           {
            "marker": {
             "colorbar": {
              "outlinewidth": 0,
              "ticks": ""
             }
            },
            "type": "scattercarpet"
           }
          ],
          "scattergeo": [
           {
            "marker": {
             "colorbar": {
              "outlinewidth": 0,
              "ticks": ""
             }
            },
            "type": "scattergeo"
           }
          ],
          "scattergl": [
           {
            "marker": {
             "colorbar": {
              "outlinewidth": 0,
              "ticks": ""
             }
            },
            "type": "scattergl"
           }
          ],
          "scattermap": [
           {
            "marker": {
             "colorbar": {
              "outlinewidth": 0,
              "ticks": ""
             }
            },
            "type": "scattermap"
           }
          ],
          "scattermapbox": [
           {
            "marker": {
             "colorbar": {
              "outlinewidth": 0,
              "ticks": ""
             }
            },
            "type": "scattermapbox"
           }
          ],
          "scatterpolar": [
           {
            "marker": {
             "colorbar": {
              "outlinewidth": 0,
              "ticks": ""
             }
            },
            "type": "scatterpolar"
           }
          ],
          "scatterpolargl": [
           {
            "marker": {
             "colorbar": {
              "outlinewidth": 0,
              "ticks": ""
             }
            },
            "type": "scatterpolargl"
           }
          ],
          "scatterternary": [
           {
            "marker": {
             "colorbar": {
              "outlinewidth": 0,
              "ticks": ""
             }
            },
            "type": "scatterternary"
           }
          ],
          "surface": [
           {
            "colorbar": {
             "outlinewidth": 0,
             "ticks": ""
            },
            "colorscale": [
             [
              0,
              "#0d0887"
             ],
             [
              0.1111111111111111,
              "#46039f"
             ],
             [
              0.2222222222222222,
              "#7201a8"
             ],
             [
              0.3333333333333333,
              "#9c179e"
             ],
             [
              0.4444444444444444,
              "#bd3786"
             ],
             [
              0.5555555555555556,
              "#d8576b"
             ],
             [
              0.6666666666666666,
              "#ed7953"
             ],
             [
              0.7777777777777778,
              "#fb9f3a"
             ],
             [
              0.8888888888888888,
              "#fdca26"
             ],
             [
              1,
              "#f0f921"
             ]
            ],
            "type": "surface"
           }
          ],
          "table": [
           {
            "cells": {
             "fill": {
              "color": "#EBF0F8"
             },
             "line": {
              "color": "white"
             }
            },
            "header": {
             "fill": {
              "color": "#C8D4E3"
             },
             "line": {
              "color": "white"
             }
            },
            "type": "table"
           }
          ]
         },
         "layout": {
          "annotationdefaults": {
           "arrowcolor": "#2a3f5f",
           "arrowhead": 0,
           "arrowwidth": 1
          },
          "autotypenumbers": "strict",
          "coloraxis": {
           "colorbar": {
            "outlinewidth": 0,
            "ticks": ""
           }
          },
          "colorscale": {
           "diverging": [
            [
             0,
             "#8e0152"
            ],
            [
             0.1,
             "#c51b7d"
            ],
            [
             0.2,
             "#de77ae"
            ],
            [
             0.3,
             "#f1b6da"
            ],
            [
             0.4,
             "#fde0ef"
            ],
            [
             0.5,
             "#f7f7f7"
            ],
            [
             0.6,
             "#e6f5d0"
            ],
            [
             0.7,
             "#b8e186"
            ],
            [
             0.8,
             "#7fbc41"
            ],
            [
             0.9,
             "#4d9221"
            ],
            [
             1,
             "#276419"
            ]
           ],
           "sequential": [
            [
             0,
             "#0d0887"
            ],
            [
             0.1111111111111111,
             "#46039f"
            ],
            [
             0.2222222222222222,
             "#7201a8"
            ],
            [
             0.3333333333333333,
             "#9c179e"
            ],
            [
             0.4444444444444444,
             "#bd3786"
            ],
            [
             0.5555555555555556,
             "#d8576b"
            ],
            [
             0.6666666666666666,
             "#ed7953"
            ],
            [
             0.7777777777777778,
             "#fb9f3a"
            ],
            [
             0.8888888888888888,
             "#fdca26"
            ],
            [
             1,
             "#f0f921"
            ]
           ],
           "sequentialminus": [
            [
             0,
             "#0d0887"
            ],
            [
             0.1111111111111111,
             "#46039f"
            ],
            [
             0.2222222222222222,
             "#7201a8"
            ],
            [
             0.3333333333333333,
             "#9c179e"
            ],
            [
             0.4444444444444444,
             "#bd3786"
            ],
            [
             0.5555555555555556,
             "#d8576b"
            ],
            [
             0.6666666666666666,
             "#ed7953"
            ],
            [
             0.7777777777777778,
             "#fb9f3a"
            ],
            [
             0.8888888888888888,
             "#fdca26"
            ],
            [
             1,
             "#f0f921"
            ]
           ]
          },
          "colorway": [
           "#636efa",
           "#EF553B",
           "#00cc96",
           "#ab63fa",
           "#FFA15A",
           "#19d3f3",
           "#FF6692",
           "#B6E880",
           "#FF97FF",
           "#FECB52"
          ],
          "font": {
           "color": "#2a3f5f"
          },
          "geo": {
           "bgcolor": "white",
           "lakecolor": "white",
           "landcolor": "#E5ECF6",
           "showlakes": true,
           "showland": true,
           "subunitcolor": "white"
          },
          "hoverlabel": {
           "align": "left"
          },
          "hovermode": "closest",
          "mapbox": {
           "style": "light"
          },
          "paper_bgcolor": "white",
          "plot_bgcolor": "#E5ECF6",
          "polar": {
           "angularaxis": {
            "gridcolor": "white",
            "linecolor": "white",
            "ticks": ""
           },
           "bgcolor": "#E5ECF6",
           "radialaxis": {
            "gridcolor": "white",
            "linecolor": "white",
            "ticks": ""
           }
          },
          "scene": {
           "xaxis": {
            "backgroundcolor": "#E5ECF6",
            "gridcolor": "white",
            "gridwidth": 2,
            "linecolor": "white",
            "showbackground": true,
            "ticks": "",
            "zerolinecolor": "white"
           },
           "yaxis": {
            "backgroundcolor": "#E5ECF6",
            "gridcolor": "white",
            "gridwidth": 2,
            "linecolor": "white",
            "showbackground": true,
            "ticks": "",
            "zerolinecolor": "white"
           },
           "zaxis": {
            "backgroundcolor": "#E5ECF6",
            "gridcolor": "white",
            "gridwidth": 2,
            "linecolor": "white",
            "showbackground": true,
            "ticks": "",
            "zerolinecolor": "white"
           }
          },
          "shapedefaults": {
           "line": {
            "color": "#2a3f5f"
           }
          },
          "ternary": {
           "aaxis": {
            "gridcolor": "white",
            "linecolor": "white",
            "ticks": ""
           },
           "baxis": {
            "gridcolor": "white",
            "linecolor": "white",
            "ticks": ""
           },
           "bgcolor": "#E5ECF6",
           "caxis": {
            "gridcolor": "white",
            "linecolor": "white",
            "ticks": ""
           }
          },
          "title": {
           "x": 0.05
          },
          "xaxis": {
           "automargin": true,
           "gridcolor": "white",
           "linecolor": "white",
           "ticks": "",
           "title": {
            "standoff": 15
           },
           "zerolinecolor": "white",
           "zerolinewidth": 2
          },
          "yaxis": {
           "automargin": true,
           "gridcolor": "white",
           "linecolor": "white",
           "ticks": "",
           "title": {
            "standoff": 15
           },
           "zerolinecolor": "white",
           "zerolinewidth": 2
          }
         }
        },
        "title": {
         "text": "NFL QB Clusters on Selectable Principal Components"
        },
        "updatemenus": [
         {
          "buttons": [
           {
            "args": [
             {
              "visible": [
               true,
               false,
               false,
               false,
               false,
               false
              ]
             },
             {
              "xaxis.title.text": "PC1",
              "yaxis.title.text": "PC2"
             }
            ],
            "label": "PC1 vs PC2",
            "method": "update"
           },
           {
            "args": [
             {
              "visible": [
               false,
               true,
               false,
               false,
               false,
               false
              ]
             },
             {
              "xaxis.title.text": "PC1",
              "yaxis.title.text": "PC3"
             }
            ],
            "label": "PC1 vs PC3",
            "method": "update"
           },
           {
            "args": [
             {
              "visible": [
               false,
               false,
               true,
               false,
               false,
               false
              ]
             },
             {
              "xaxis.title.text": "PC1",
              "yaxis.title.text": "PC4"
             }
            ],
            "label": "PC1 vs PC4",
            "method": "update"
           },
           {
            "args": [
             {
              "visible": [
               false,
               false,
               false,
               true,
               false,
               false
              ]
             },
             {
              "xaxis.title.text": "PC2",
              "yaxis.title.text": "PC3"
             }
            ],
            "label": "PC2 vs PC3",
            "method": "update"
           },
           {
            "args": [
             {
              "visible": [
               false,
               false,
               false,
               false,
               true,
               false
              ]
             },
             {
              "xaxis.title.text": "PC2",
              "yaxis.title.text": "PC4"
             }
            ],
            "label": "PC2 vs PC4",
            "method": "update"
           },
           {
            "args": [
             {
              "visible": [
               false,
               false,
               false,
               false,
               false,
               true
              ]
             },
             {
              "xaxis.title.text": "PC3",
              "yaxis.title.text": "PC4"
             }
            ],
            "label": "PC3 vs PC4",
            "method": "update"
           }
          ],
          "direction": "down",
          "showactive": true,
          "x": 0.75,
          "xanchor": "center",
          "y": 1.15,
          "yanchor": "top"
         }
        ],
        "width": 900,
        "xaxis": {
         "title": {
          "text": "PC1"
         }
        },
        "yaxis": {
         "title": {
          "text": "PC2"
         }
        }
       }
      }
     },
     "metadata": {},
     "output_type": "display_data"
    }
   ],
   "source": [
    "pcs = ['PC1', 'PC2', 'PC3', 'PC4']\n",
    "traces = []\n",
    "buttons = []\n",
    "\n",
    "# Track trace visibility layout\n",
    "trace_visibility_templates = []\n",
    "\n",
    "# Generate only unique (non-flipped) PC pairs\n",
    "pc_pairs = [(pcs[i], pcs[j]) for i in range(len(pcs)) for j in range(i+1, len(pcs))]\n",
    "\n",
    "for idx, (x_pc, y_pc) in enumerate(pc_pairs):\n",
    "    visible = (idx == 0)\n",
    "\n",
    "    trace = go.Scatter(\n",
    "        x=pca_df[x_pc],\n",
    "        y=pca_df[y_pc],\n",
    "        mode='markers+text',\n",
    "        text=pca_df['Player'],\n",
    "        textposition='top center',\n",
    "        marker=dict(size=12, color=pca_df['Cluster'], colorscale='Viridis'),\n",
    "        hovertemplate='<b>%{text}</b><br>Team: %{customdata[0]}<br>Cluster: %{marker.color}<extra></extra>',\n",
    "        customdata=pca_df[['Team']],\n",
    "        showlegend=False,\n",
    "        visible=visible,\n",
    "        name=f\"{x_pc} vs {y_pc}\"\n",
    "    )\n",
    "\n",
    "    traces.append(trace)\n",
    "\n",
    "    # Create visibility array: only one trace visible at a time\n",
    "    visibility = [i == idx for i in range(len(pc_pairs))]\n",
    "\n",
    "    buttons.append(dict(\n",
    "        label=f\"{x_pc} vs {y_pc}\",\n",
    "        method=\"update\",\n",
    "        args=[\n",
    "            {\"visible\": visibility},\n",
    "            {\"xaxis.title.text\": x_pc, \"yaxis.title.text\": y_pc}\n",
    "        ]\n",
    "    ))\n",
    "\n",
    "# Build the figure\n",
    "fig = go.Figure(data=traces)\n",
    "\n",
    "fig.update_layout(\n",
    "    title=\"NFL QB Clusters on Selectable Principal Components\",\n",
    "    width=900,\n",
    "    height=700,\n",
    "    xaxis_title=pc_pairs[0][0],\n",
    "    yaxis_title=pc_pairs[0][1],\n",
    "    updatemenus=[dict(\n",
    "        buttons=buttons,\n",
    "        direction=\"down\",\n",
    "        showactive=True,\n",
    "        x=0.75,\n",
    "        xanchor=\"center\",\n",
    "        y=1.15,\n",
    "        yanchor=\"top\"\n",
    "    )],\n",
    "    margin=dict(t=100, r=275)\n",
    ")\n",
    "\n",
    "for i, (pc, text) in enumerate(top_features_per_pc.items()):\n",
    "    fig.add_annotation(\n",
    "        x=1.5,  # outside the right side of the plot\n",
    "        y=1 - (i * 0.25),  # stacked vertically\n",
    "        xref='paper',\n",
    "        yref='paper',\n",
    "        text=f\"<b>{pc}</b><br>{text}\",\n",
    "        showarrow=False,\n",
    "        align='left',\n",
    "        font=dict(size=12),\n",
    "        bordercolor='black',\n",
    "        borderwidth=1,\n",
    "        bgcolor='white',\n",
    "        opacity=0.9\n",
    "    )\n",
    "\n",
    "\n",
    "fig.show()"
   ]
  },
  {
   "cell_type": "code",
   "execution_count": 30,
   "id": "ec7dadba",
   "metadata": {},
   "outputs": [
    {
     "data": {
      "image/png": "[encoded data removed]",
      "text/plain": [
       "<Figure size 1600x1000 with 8 Axes>"
      ]
     },
     "metadata": {},
     "output_type": "display_data"
    }
   ],
   "source": [
    "stats_to_plot = ['Cmp%', 'Yds', 'TD', 'Int%', 'Rate', 'ANY/A', 'Y/G', 'QB-Wins']\n",
    "custom_colors = ['purple', 'blue', 'green', 'yellow']\n",
    "\n",
    "plt.figure(figsize=(16, 10))\n",
    "\n",
    "for i, stat in enumerate(stats_to_plot, 1):\n",
    "    plt.subplot(2, 4, i)\n",
    "    sns.boxplot(x='Cluster', \n",
    "                y=stat, \n",
    "                data=NFL_QB_Features, \n",
    "                hue='Cluster', \n",
    "                palette=custom_colors, \n",
    "                legend=False)\n",
    "    plt.title(f'{stat} by Cluster')\n",
    "    plt.xlabel('Cluster')\n",
    "    plt.ylabel(stat)\n",
    "\n",
    "plt.tight_layout()\n",
    "plt.show()\n"
   ]
  }
 ],
 "metadata": {
  "kernelspec": {
   "display_name": "Python 3",
   "language": "python",
   "name": "python3"
  },
  "language_info": {
   "codemirror_mode": {
    "name": "ipython",
    "version": 3
   },
   "file_extension": ".py",
   "mimetype": "text/x-python",
   "name": "python",
   "nbconvert_exporter": "python",
   "pygments_lexer": "ipython3",
   "version": "3.11.9"
  }
 },
 "nbformat": 4,
 "nbformat_minor": 5
}
